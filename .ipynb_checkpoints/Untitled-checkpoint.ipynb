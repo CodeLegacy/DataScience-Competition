{
 "cells": [
  {
   "cell_type": "code",
   "execution_count": 2,
   "metadata": {},
   "outputs": [],
   "source": [
    "import numpy as np\n",
    "import pandas as pd"
   ]
  },
  {
   "cell_type": "code",
   "execution_count": 3,
   "metadata": {},
   "outputs": [],
   "source": [
    "data=pd.read_csv(\"trainfx.csv\")"
   ]
  },
  {
   "cell_type": "code",
   "execution_count": 4,
   "metadata": {},
   "outputs": [],
   "source": [
    "data1=pd.read_csv(\"testfx.csv\")"
   ]
  },
  {
   "cell_type": "code",
   "execution_count": 5,
   "metadata": {},
   "outputs": [],
   "source": [
    "ext=pd.read_csv(\"x_train_additional_file.csv\")"
   ]
  },
  {
   "cell_type": "code",
   "execution_count": 6,
   "metadata": {},
   "outputs": [],
   "source": [
    "ext1=pd.read_csv(\"x_test_additional_file.csv\")"
   ]
  },
  {
   "cell_type": "code",
   "execution_count": 7,
   "metadata": {},
   "outputs": [],
   "source": [
    "#For Training Data filling missing values"
   ]
  },
  {
   "cell_type": "code",
   "execution_count": 8,
   "metadata": {},
   "outputs": [],
   "source": [
    "data['updated OSRM estimated duration'] = ext['updated OSRM estimated duration']"
   ]
  },
  {
   "cell_type": "code",
   "execution_count": 9,
   "metadata": {},
   "outputs": [],
   "source": [
    "x_train = data[data['updated OSRM estimated duration'].notnull()].drop(columns = 'updated OSRM estimated duration')"
   ]
  },
  {
   "cell_type": "code",
   "execution_count": 10,
   "metadata": {},
   "outputs": [],
   "source": [
    "y_train = data[data['updated OSRM estimated duration'].notnull()]['updated OSRM estimated duration']"
   ]
  },
  {
   "cell_type": "code",
   "execution_count": 11,
   "metadata": {},
   "outputs": [],
   "source": [
    "x_test = data[data['updated OSRM estimated duration'].isnull()].drop(columns='updated OSRM estimated duration')"
   ]
  },
  {
   "cell_type": "code",
   "execution_count": 20,
   "metadata": {},
   "outputs": [],
   "source": [
    "y_test = data[data['updated OSRM estimated duration'].isnull()]['updated OSRM estimated duration']"
   ]
  },
  {
   "cell_type": "code",
   "execution_count": null,
   "metadata": {},
   "outputs": [],
   "source": [
    "x_train = x_train['OSRM estimated duration']\n",
    "x_test = x_test['OSRM estimated ']"
   ]
  },
  {
   "cell_type": "code",
   "execution_count": 18,
   "metadata": {},
   "outputs": [],
   "source": [
    "from sklearn.linear_model import LinearRegression"
   ]
  },
  {
   "cell_type": "code",
   "execution_count": 20,
   "metadata": {},
   "outputs": [],
   "source": [
    "linreg = LinearRegression()"
   ]
  },
  {
   "cell_type": "code",
   "execution_count": 21,
   "metadata": {},
   "outputs": [
    {
     "data": {
      "text/plain": [
       "LinearRegression(copy_X=True, fit_intercept=True, n_jobs=None, normalize=False)"
      ]
     },
     "execution_count": 21,
     "metadata": {},
     "output_type": "execute_result"
    }
   ],
   "source": [
    "linreg.fit(x_train,y_train)"
   ]
  },
  {
   "cell_type": "code",
   "execution_count": 22,
   "metadata": {},
   "outputs": [],
   "source": [
    "predicted = linreg.predict(x_test)"
   ]
  },
  {
   "cell_type": "code",
   "execution_count": 26,
   "metadata": {},
   "outputs": [
    {
     "name": "stderr",
     "output_type": "stream",
     "text": [
      "D:\\Softwares\\Anaconda\\lib\\site-packages\\ipykernel_launcher.py:1: SettingWithCopyWarning: \n",
      "A value is trying to be set on a copy of a slice from a DataFrame\n",
      "\n",
      "See the caveats in the documentation: http://pandas.pydata.org/pandas-docs/stable/indexing.html#indexing-view-versus-copy\n",
      "  \"\"\"Entry point for launching an IPython kernel.\n"
     ]
    }
   ],
   "source": [
    "data['updated OSRM estimated duration'][data['updated OSRM estimated duration'].isnull()] = predicted"
   ]
  },
  {
   "cell_type": "code",
   "execution_count": 27,
   "metadata": {},
   "outputs": [
    {
     "name": "stdout",
     "output_type": "stream",
     "text": [
      "<class 'pandas.core.frame.DataFrame'>\n",
      "RangeIndex: 219337 entries, 0 to 219336\n",
      "Data columns (total 23 columns):\n",
      "alert reason category                                            219337 non-null int64\n",
      "alert reason                                                     219337 non-null int64\n",
      "intervention on public roads                                     219337 non-null int64\n",
      "floor                                                            219337 non-null int64\n",
      "longitude intervention                                           219337 non-null float64\n",
      "latitude intervention                                            219337 non-null float64\n",
      "emergency vehicle type                                           219337 non-null int64\n",
      "rescue center                                                    219337 non-null int64\n",
      "time key sélection                                               219337 non-null int64\n",
      "status preceding selection                                       219337 non-null int64\n",
      "departed from its rescue center                                  219337 non-null int64\n",
      "longitude before departure                                       219337 non-null float64\n",
      "latitude before departure                                        219337 non-null float64\n",
      "OSRM estimated distance                                          219337 non-null float64\n",
      "OSRM estimated duration                                          219337 non-null float64\n",
      "month                                                            219337 non-null int64\n",
      "OSRM estimated distance from last observed GPS position          219337 non-null float64\n",
      "OSRM estimated duration from last observed GPS position          219337 non-null float64\n",
      "time elapsed between selection and last observed GPS position    219337 non-null float64\n",
      "updated OSRM estimated duration                                  219337 non-null float64\n",
      "new speed                                                        219337 non-null float64\n",
      "location of the event                                            219337 non-null float64\n",
      "temp                                                             219337 non-null float64\n",
      "dtypes: float64(13), int64(10)\n",
      "memory usage: 38.5 MB\n"
     ]
    }
   ],
   "source": [
    "data.info()"
   ]
  },
  {
   "cell_type": "code",
   "execution_count": 28,
   "metadata": {},
   "outputs": [
    {
     "data": {
      "text/plain": [
       "0         482.810\n",
       "1         243.200\n",
       "2         557.323\n",
       "3         318.880\n",
       "4         719.983\n",
       "5         187.700\n",
       "6         301.500\n",
       "7         520.703\n",
       "8         510.937\n",
       "9         272.400\n",
       "10        222.700\n",
       "11        578.283\n",
       "12        554.940\n",
       "13        176.500\n",
       "14        212.800\n",
       "15        302.500\n",
       "16        372.513\n",
       "17        143.200\n",
       "18        167.600\n",
       "19        248.423\n",
       "20        290.117\n",
       "21        120.700\n",
       "22        472.840\n",
       "23        306.600\n",
       "24        225.097\n",
       "25        570.600\n",
       "26        791.327\n",
       "27        476.023\n",
       "28        398.130\n",
       "29        231.800\n",
       "           ...   \n",
       "219307    167.800\n",
       "219308    457.800\n",
       "219309     60.600\n",
       "219310    220.500\n",
       "219311    274.300\n",
       "219312    394.303\n",
       "219313    196.750\n",
       "219314    177.400\n",
       "219315    594.317\n",
       "219316    312.400\n",
       "219317     96.800\n",
       "219318    270.700\n",
       "219319    250.600\n",
       "219320    287.600\n",
       "219321    141.200\n",
       "219322    609.350\n",
       "219323    400.657\n",
       "219324    203.700\n",
       "219325    325.927\n",
       "219326    166.700\n",
       "219327    107.200\n",
       "219328    523.420\n",
       "219329    146.800\n",
       "219330    316.700\n",
       "219331    297.700\n",
       "219332    231.700\n",
       "219333    190.000\n",
       "219334     52.500\n",
       "219335    514.810\n",
       "219336    114.800\n",
       "Name: updated OSRM estimated duration, Length: 219337, dtype: float64"
      ]
     },
     "execution_count": 28,
     "metadata": {},
     "output_type": "execute_result"
    }
   ],
   "source": [
    "data['updated OSRM estimated duration']"
   ]
  },
  {
   "cell_type": "code",
   "execution_count": 29,
   "metadata": {},
   "outputs": [],
   "source": [
    "#For Testing data filling missing values"
   ]
  },
  {
   "cell_type": "code",
   "execution_count": 30,
   "metadata": {},
   "outputs": [],
   "source": [
    "data1['updated OSRM estimated duration'] = ext1['updated OSRM estimated duration']"
   ]
  },
  {
   "cell_type": "code",
   "execution_count": 31,
   "metadata": {},
   "outputs": [],
   "source": [
    "x_train = data1[data1['updated OSRM estimated duration'].notnull()].drop(columns = 'updated OSRM estimated duration')"
   ]
  },
  {
   "cell_type": "code",
   "execution_count": 32,
   "metadata": {},
   "outputs": [],
   "source": [
    "y_train = data1[data1['updated OSRM estimated duration'].notnull()]['updated OSRM estimated duration']"
   ]
  },
  {
   "cell_type": "code",
   "execution_count": 33,
   "metadata": {},
   "outputs": [],
   "source": [
    "x_test = data1[data1['updated OSRM estimated duration'].isnull()].drop(columns='updated OSRM estimated duration')"
   ]
  },
  {
   "cell_type": "code",
   "execution_count": 34,
   "metadata": {},
   "outputs": [],
   "source": [
    "y_test = data1[data1['updated OSRM estimated duration'].isnull()]['updated OSRM estimated duration']"
   ]
  },
  {
   "cell_type": "code",
   "execution_count": 35,
   "metadata": {},
   "outputs": [
    {
     "data": {
      "text/plain": [
       "LinearRegression(copy_X=True, fit_intercept=True, n_jobs=None, normalize=False)"
      ]
     },
     "execution_count": 35,
     "metadata": {},
     "output_type": "execute_result"
    }
   ],
   "source": [
    "linreg.fit(x_train,y_train)"
   ]
  },
  {
   "cell_type": "code",
   "execution_count": 36,
   "metadata": {},
   "outputs": [],
   "source": [
    "predicted = linreg.predict(x_test)"
   ]
  },
  {
   "cell_type": "code",
   "execution_count": 37,
   "metadata": {},
   "outputs": [
    {
     "name": "stderr",
     "output_type": "stream",
     "text": [
      "D:\\Softwares\\Anaconda\\lib\\site-packages\\ipykernel_launcher.py:1: SettingWithCopyWarning: \n",
      "A value is trying to be set on a copy of a slice from a DataFrame\n",
      "\n",
      "See the caveats in the documentation: http://pandas.pydata.org/pandas-docs/stable/indexing.html#indexing-view-versus-copy\n",
      "  \"\"\"Entry point for launching an IPython kernel.\n"
     ]
    }
   ],
   "source": [
    "data1['updated OSRM estimated duration'][data1['updated OSRM estimated duration'].isnull()] = predicted"
   ]
  },
  {
   "cell_type": "code",
   "execution_count": 38,
   "metadata": {},
   "outputs": [
    {
     "data": {
      "text/plain": [
       "0         336.500\n",
       "1         466.503\n",
       "2          85.100\n",
       "3         167.800\n",
       "4         244.000\n",
       "5         514.860\n",
       "6          98.800\n",
       "7         172.000\n",
       "8         122.100\n",
       "9         387.380\n",
       "10        173.100\n",
       "11        390.253\n",
       "12        266.500\n",
       "13        197.800\n",
       "14        287.300\n",
       "15        868.470\n",
       "16        631.787\n",
       "17        450.487\n",
       "18        324.000\n",
       "19        414.627\n",
       "20        351.600\n",
       "21         99.100\n",
       "22        176.600\n",
       "23        576.500\n",
       "24        106.100\n",
       "25        246.100\n",
       "26        208.200\n",
       "27        180.200\n",
       "28        364.700\n",
       "29        236.900\n",
       "           ...   \n",
       "108003    150.100\n",
       "108004    398.000\n",
       "108005    107.700\n",
       "108006    696.323\n",
       "108007    673.100\n",
       "108008    586.083\n",
       "108009    379.560\n",
       "108010    296.600\n",
       "108011    543.023\n",
       "108012    640.370\n",
       "108013    557.753\n",
       "108014    387.057\n",
       "108015    206.700\n",
       "108016    220.500\n",
       "108017    477.787\n",
       "108018    235.200\n",
       "108019    452.483\n",
       "108020    168.000\n",
       "108021    775.757\n",
       "108022    462.210\n",
       "108023    306.100\n",
       "108024    158.400\n",
       "108025    345.900\n",
       "108026    199.200\n",
       "108027    315.200\n",
       "108028    850.083\n",
       "108029    438.900\n",
       "108030     62.700\n",
       "108031    101.200\n",
       "108032    696.553\n",
       "Name: updated OSRM estimated duration, Length: 108033, dtype: float64"
      ]
     },
     "execution_count": 38,
     "metadata": {},
     "output_type": "execute_result"
    }
   ],
   "source": [
    "data1['updated OSRM estimated duration']"
   ]
  },
  {
   "cell_type": "code",
   "execution_count": 39,
   "metadata": {},
   "outputs": [
    {
     "data": {
      "text/plain": [
       "0         482.810\n",
       "1         243.200\n",
       "2         557.323\n",
       "3         318.880\n",
       "4         719.983\n",
       "5         187.700\n",
       "6         301.500\n",
       "7         520.703\n",
       "8         510.937\n",
       "9         272.400\n",
       "10        222.700\n",
       "11        578.283\n",
       "12        554.940\n",
       "13        176.500\n",
       "14        212.800\n",
       "15        302.500\n",
       "16        372.513\n",
       "17        143.200\n",
       "18        167.600\n",
       "19        248.423\n",
       "20        290.117\n",
       "21        120.700\n",
       "22        472.840\n",
       "23        306.600\n",
       "24        225.097\n",
       "25        570.600\n",
       "26        791.327\n",
       "27        476.023\n",
       "28        398.130\n",
       "29        231.800\n",
       "           ...   \n",
       "219307    167.800\n",
       "219308    457.800\n",
       "219309     60.600\n",
       "219310    220.500\n",
       "219311    274.300\n",
       "219312    394.303\n",
       "219313    196.750\n",
       "219314    177.400\n",
       "219315    594.317\n",
       "219316    312.400\n",
       "219317     96.800\n",
       "219318    270.700\n",
       "219319    250.600\n",
       "219320    287.600\n",
       "219321    141.200\n",
       "219322    609.350\n",
       "219323    400.657\n",
       "219324    203.700\n",
       "219325    325.927\n",
       "219326    166.700\n",
       "219327    107.200\n",
       "219328    523.420\n",
       "219329    146.800\n",
       "219330    316.700\n",
       "219331    297.700\n",
       "219332    231.700\n",
       "219333    190.000\n",
       "219334     52.500\n",
       "219335    514.810\n",
       "219336    114.800\n",
       "Name: updated OSRM estimated duration, Length: 219337, dtype: float64"
      ]
     },
     "execution_count": 39,
     "metadata": {},
     "output_type": "execute_result"
    }
   ],
   "source": [
    "data['updated OSRM estimated duration']"
   ]
  },
  {
   "cell_type": "code",
   "execution_count": 40,
   "metadata": {},
   "outputs": [],
   "source": [
    "new_train_csv = data.to_csv('new_train.csv')"
   ]
  },
  {
   "cell_type": "code",
   "execution_count": 41,
   "metadata": {},
   "outputs": [],
   "source": [
    "new_test_csv = data1.to_csv('new_test.csv')"
   ]
  },
  {
   "cell_type": "code",
   "execution_count": 18,
   "metadata": {},
   "outputs": [
    {
     "data": {
      "text/plain": [
       "(153577, 22)"
      ]
     },
     "execution_count": 18,
     "metadata": {},
     "output_type": "execute_result"
    }
   ],
   "source": [
    "x_test.shape"
   ]
  },
  {
   "cell_type": "code",
   "execution_count": 19,
   "metadata": {},
   "outputs": [
    {
     "data": {
      "text/plain": [
       "(65760, 22)"
      ]
     },
     "execution_count": 19,
     "metadata": {},
     "output_type": "execute_result"
    }
   ],
   "source": [
    "x_train.shape"
   ]
  },
  {
   "cell_type": "code",
   "execution_count": null,
   "metadata": {},
   "outputs": [],
   "source": []
  }
 ],
 "metadata": {
  "kernelspec": {
   "display_name": "Python 3",
   "language": "python",
   "name": "python3"
  },
  "language_info": {
   "codemirror_mode": {
    "name": "ipython",
    "version": 3
   },
   "file_extension": ".py",
   "mimetype": "text/x-python",
   "name": "python",
   "nbconvert_exporter": "python",
   "pygments_lexer": "ipython3",
   "version": "3.7.0"
  }
 },
 "nbformat": 4,
 "nbformat_minor": 2
}
